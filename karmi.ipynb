{
  "nbformat": 4,
  "nbformat_minor": 0,
  "metadata": {
    "colab": {
      "name": "karmi.ipynb",
      "provenance": [],
      "collapsed_sections": [],
      "authorship_tag": "ABX9TyM3zF15ZGUTDJ8tiRVaPUoT",
      "include_colab_link": true
    },
    "kernelspec": {
      "name": "python3",
      "display_name": "Python 3"
    },
    "language_info": {
      "name": "python"
    }
  },
  "cells": [
    {
      "cell_type": "markdown",
      "metadata": {
        "id": "view-in-github",
        "colab_type": "text"
      },
      "source": [
        "<a href=\"https://colab.research.google.com/github/jmall/AndEngine/blob/master/karmi.ipynb\" target=\"_parent\"><img src=\"https://colab.research.google.com/assets/colab-badge.svg\" alt=\"Open In Colab\"/></a>"
      ]
    },
    {
      "cell_type": "code",
      "metadata": {
        "id": "33BTDbEflTfr"
      },
      "source": [
        "import sys\n",
        "\n",
        "from google.oauth2 import service_account\n"
      ],
      "execution_count": 1,
      "outputs": []
    },
    {
      "cell_type": "code",
      "metadata": {
        "id": "HQlnjFIHnINM"
      },
      "source": [
        "!pip install google-cloud-vision"
      ],
      "execution_count": null,
      "outputs": []
    },
    {
      "cell_type": "code",
      "metadata": {
        "id": "XMxpJPpqlcwb"
      },
      "source": [
        "def detect_text(path):\n",
        "    \"\"\"Detects text in the file.\"\"\"\n",
        "    from google.cloud import vision\n",
        "    import io\n",
        "    credentials = service_account.Credentials.from_service_account_file(\"/content/friedman-310017-bf14894faf8e.json\")\n",
        "\n",
        "    # client = vision.ImageAnnotatorClient()\n",
        "    client = vision.ImageAnnotatorClient(credentials=credentials)\n",
        "\n",
        "    with io.open(path, 'rb') as image_file:\n",
        "        content = image_file.read()\n",
        "\n",
        "    image = vision.Image(content=content)\n",
        "\n",
        "    response = client.text_detection(image=image)\n",
        "    texts = response.text_annotations\n",
        "    # print('Texts:')\n",
        "\n",
        "    for text in texts:\n",
        "        # print('\\n\"{}\"'.format(text.description))\n",
        "\n",
        "        vertices = (['({},{})'.format(vertex.x, vertex.y)\n",
        "                    for vertex in text.bounding_poly.vertices])\n",
        "\n",
        "        # print('bounds: {}'.format(','.join(vertices)))\n",
        "\n",
        "    if response.error.message:\n",
        "        raise Exception(\n",
        "            '{}\\nFor more info on error messages, check: '\n",
        "            'https://cloud.google.com/apis/design/errors'.format(\n",
        "                response.error.message))\n",
        "    res = \"\"\n",
        "    for text in texts:\n",
        "        if len(res) > 0:\n",
        "            break\n",
        "        res = res + ' '+ text.description\n",
        "    print(res)"
      ],
      "execution_count": 8,
      "outputs": []
    },
    {
      "cell_type": "code",
      "metadata": {
        "colab": {
          "base_uri": "https://localhost:8080/"
        },
        "id": "06_UUX1ulhx8",
        "outputId": "f2e88aa0-d223-46f7-f7aa-6874367b1e60"
      },
      "source": [
        "detect_text('/content/pn2.png')"
      ],
      "execution_count": 11,
      "outputs": [
        {
          "output_type": "stream",
          "text": [
            " 12-345-90\n",
            "IL\n",
            "שראל\n",
            "إسرائیل\n",
            "\n"
          ],
          "name": "stdout"
        }
      ]
    }
  ]
}